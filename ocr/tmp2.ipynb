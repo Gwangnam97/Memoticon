{
 "cells": [
  {
   "cell_type": "code",
   "execution_count": 1,
   "metadata": {},
   "outputs": [],
   "source": [
    "import os\n",
    "os.environ['KMP_DUPLICATE_LIB_OK']='True'"
   ]
  },
  {
   "cell_type": "code",
   "execution_count": 2,
   "metadata": {},
   "outputs": [],
   "source": [
    "from matplotlib import pyplot as plt\n",
    "from imutils.perspective import four_point_transform\n",
    "from imutils.contours import sort_contours\n",
    "import imutils\n",
    "from easyocr import Reader\n",
    "import cv2\n",
    "import requests\n",
    "import numpy as np\n",
    "from PIL import ImageFont, ImageDraw, Image\n",
    "import time"
   ]
  },
  {
   "cell_type": "code",
   "execution_count": 24,
   "metadata": {},
   "outputs": [
    {
     "ename": "",
     "evalue": "",
     "output_type": "error",
     "traceback": [
      "\u001b[1;31mThe Kernel crashed while executing code in the the current cell or a previous cell. Please review the code in the cell(s) to identify a possible cause of the failure. Click <a href='https://aka.ms/vscodeJupyterKernelCrash'>here</a> for more info. View Jupyter <a href='command:jupyter.viewOutput'>log</a> for further details."
     ]
    }
   ],
   "source": [
    "url = \"https://i.pinimg.com/originals/6f/20/a2/6f20a236a9f5ee4865947309e6adb373.jpg\"\n",
    "\n",
    "image_nparray = np.asarray(bytearray(requests.get(url).content), dtype=np.uint8)\n",
    "org_image = cv2.imdecode(image_nparray, cv2.IMREAD_COLOR) \n",
    "image = imutils.resize(org_image, width=200)\n",
    "\n",
    "cv2.imshow(\"orignal\", image)\n",
    "\n",
    "gray = cv2.cvtColor(image, cv2.COLOR_BGR2GRAY)\n",
    "grayscale = cv2.threshold(gray, 255, 255, cv2.THRESH_OTSU)[1]\n",
    "kernel = np.array([\n",
    "    [-1,-1,-1],\n",
    "    [-1, 8,-1],\n",
    "    [-1,-1,-1]\n",
    "    ])\n",
    "filter = cv2.filter2D(gray,-1,kernel)\n",
    "blurred = cv2.GaussianBlur(grayscale, (5,5), 0)\n",
    "edged = cv2.Canny(blurred, 0, 200)\n",
    "\n"
   ]
  },
  {
   "cell_type": "code",
   "execution_count": 23,
   "metadata": {},
   "outputs": [
    {
     "name": "stderr",
     "output_type": "stream",
     "text": [
      "CUDA not available - defaulting to CPU. Note: This module is much faster with a GPU.\n"
     ]
    },
    {
     "name": "stdout",
     "output_type": "stream",
     "text": [
      "origin:  ['학교에', '77 싫은 맨', '하하하!', '소리내 웃어보세요^^', '그래도', '어차피', '가야하니까', 'L', '00']\n",
      "gray:  ['학프에', '가기 싫올 팬', '하하하!', '소리내 우예보내요A', '그래도', '어자피', '가야하니까']\n",
      "filter:  ['끼5 젊음', '대G 불', '소옛내 또매보 mQsn', '그래로', '어듯-', '돼fa6iy오DH ea']\n",
      "edged:  ['무교습', 'p첫문 @습', '입캠계y', 'GiiU} D때디디', 'G[g', 'Gaun]', '5n3-n도T ']\n"
     ]
    }
   ],
   "source": [
    "langs = [\"ko\", \"en\"]\n",
    "\n",
    "reader = Reader(lang_list = langs)\n",
    "origin_text = reader.readtext(org_image,detail = 0)\n",
    "gray_text = reader.readtext(gray, detail=0)\n",
    "filter_text = reader.readtext(filter, detail=0)\n",
    "edged_text = reader.readtext(edged, detail=0)\n",
    "\n",
    "print(\"origin: \", origin_text)\n",
    "print(\"gray: \", gray_text)\n",
    "print(\"filter: \", filter_text)\n",
    "print(\"edged: \", edged_text)"
   ]
  },
  {
   "cell_type": "code",
   "execution_count": 7,
   "metadata": {},
   "outputs": [
    {
     "data": {
      "text/plain": [
       "['학교에', '77 싫은 맨', '하하하!', '소리내 웃어보세요^^', '그래도', '어차피', '가야하니까', 'L', '00']"
      ]
     },
     "execution_count": 7,
     "metadata": {},
     "output_type": "execute_result"
    }
   ],
   "source": []
  },
  {
   "cell_type": "code",
   "execution_count": null,
   "metadata": {},
   "outputs": [],
   "source": []
  }
 ],
 "metadata": {
  "kernelspec": {
   "display_name": "base",
   "language": "python",
   "name": "python3"
  },
  "language_info": {
   "codemirror_mode": {
    "name": "ipython",
    "version": 3
   },
   "file_extension": ".py",
   "mimetype": "text/x-python",
   "name": "python",
   "nbconvert_exporter": "python",
   "pygments_lexer": "ipython3",
   "version": "3.9.13"
  },
  "orig_nbformat": 4
 },
 "nbformat": 4,
 "nbformat_minor": 2
}
